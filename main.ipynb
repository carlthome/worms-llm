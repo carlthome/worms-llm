{
 "cells": [
  {
   "attachments": {},
   "cell_type": "markdown",
   "metadata": {},
   "source": [
    "# Worms speech\n",
    "\n",
    "TODO Explain what this notebook is about and why it exists.\n"
   ]
  },
  {
   "attachments": {},
   "cell_type": "markdown",
   "metadata": {},
   "source": [
    "## Data preprocessing\n"
   ]
  },
  {
   "cell_type": "code",
   "execution_count": 72,
   "metadata": {},
   "outputs": [
    {
     "data": {
      "text/plain": [
       "2295                   * ¡Date prisa! [Hurry up!] (Hurry)\n",
       "2859                          * I felt a breeze. (Missed)\n",
       "1873                                                     \n",
       "237                       *Crap aim, by the way. (Missed)\n",
       "809                           *Good work, men! (Flawless)\n",
       "2042                  * haaa... Get down, fool! (Amazing)\n",
       "2571         *Yeah, I'll have a bit of that. (Crate Drop)\n",
       "1742    *Yeah I'm amazin', you won't fight me in the f...\n",
       "1211          *Next question, for ten points... (Yes sir)\n",
       "1184    *Oh no, you really should've banked before mak...\n",
       "dtype: object"
      ]
     },
     "execution_count": 72,
     "metadata": {},
     "output_type": "execute_result"
    }
   ],
   "source": [
    "from pathlib import Path\n",
    "\n",
    "import pandas as pd\n",
    "\n",
    "raw = Path(\"data.txt\").read_text()\n",
    "rows = pd.Series(raw.splitlines())\n",
    "rows.sample(n=10)"
   ]
  },
  {
   "cell_type": "code",
   "execution_count": 73,
   "metadata": {},
   "outputs": [
    {
     "data": {
      "text/plain": [
       "0     '''FSpeech'''/'''Voices'''/'''Speechbanks''' (...\n",
       "1                                                      \n",
       "2                                      == Speech Key ==\n",
       "3        * Representation - When a worm start his turn.\n",
       "4     *Hello / Wait - Plays when no controls have be...\n",
       "5     *Come On Then - Plays when [[Turn Time]] is do...\n",
       "6     *Hurry - Plays when [[Turn Time]] is down to 5...\n",
       "7     *Watch This - Plays while a variable power wea...\n",
       "8     *Panic - One of several voice files that play ...\n",
       "9                                            **Run Away\n",
       "10                                     **Nooo - Falling\n",
       "11    **Grenade - Panic file specifically for enemy ...\n",
       "12    **Take Cover - When an enemy calls an [[Air St...\n",
       "13    *Stupid / Oi Nutter- Plays when a enemy worm d...\n",
       "14    *Traitor - Plays when a worm damages teammate(...\n",
       "15             *Hurt - Enemy Worm after being attacked.\n",
       "16                    *Missed - Enemy missed an attack.\n",
       "17                               *Oops - Attack missed.\n",
       "18    *Bummer / Ouch - Plays after a Worm takes dama...\n",
       "19    *I'll Get You / Just You Wait / You'll Regret ...\n",
       "dtype: object"
      ]
     },
     "execution_count": 73,
     "metadata": {},
     "output_type": "execute_result"
    }
   ],
   "source": [
    "rows.head(n=20)"
   ]
  },
  {
   "cell_type": "code",
   "execution_count": 74,
   "metadata": {},
   "outputs": [
    {
     "data": {
      "text/plain": [
       "3005    *Langweilig. / Das war alles? (No attacks duri...\n",
       "3006                          *Bye bye. / Oh nein. (Dies)\n",
       "3007                               *Gewinner! (Team wins)\n",
       "3008          *Zahnräder in Bewegung! (Crafting a weapon)\n",
       "3009    *Spezialapparat eingesetzt! (Activating specia...\n",
       "3010                                                     \n",
       "3011                                           ==Trivia==\n",
       "3012    *One of Soul Man's lines, \"Like a stacks machi...\n",
       "3013    *The quote \"Say hello to my little friend!\" fr...\n",
       "3014    *The phrases \"Shoryuken\" and \"Hadouken\" are re...\n",
       "3015    *In ''Worms 2: Armageddon'', the phrase \"Fire ...\n",
       "3016    *The phrase from the Horror soundbank \"I'll te...\n",
       "3017    *In Worms HD for the PS3, some speech banks ha...\n",
       "3018                       **Double Oh Seven is named 17.\n",
       "3019                      **Poor Rapper is called Rapper.\n",
       "3020                        **Snitch is named Backstreet.\n",
       "3021    *Worms saying the word \"fatality\" is likely a ...\n",
       "3022    *In [[Worms 3D]], the Madchester speech bank i...\n",
       "3023                           [[Category:Article stubs]]\n",
       "3024                                [[Category:Settings]]\n",
       "dtype: object"
      ]
     },
     "execution_count": 74,
     "metadata": {},
     "output_type": "execute_result"
    }
   ],
   "source": [
    "rows.tail(n=20)"
   ]
  },
  {
   "cell_type": "code",
   "execution_count": 75,
   "metadata": {},
   "outputs": [
    {
     "data": {
      "text/html": [
       "<div>\n",
       "<style scoped>\n",
       "    .dataframe tbody tr th:only-of-type {\n",
       "        vertical-align: middle;\n",
       "    }\n",
       "\n",
       "    .dataframe tbody tr th {\n",
       "        vertical-align: top;\n",
       "    }\n",
       "\n",
       "    .dataframe thead th {\n",
       "        text-align: right;\n",
       "    }\n",
       "</style>\n",
       "<table border=\"1\" class=\"dataframe\">\n",
       "  <thead>\n",
       "    <tr style=\"text-align: right;\">\n",
       "      <th></th>\n",
       "      <th>speech_line</th>\n",
       "      <th>speech_key</th>\n",
       "    </tr>\n",
       "  </thead>\n",
       "  <tbody>\n",
       "    <tr>\n",
       "      <th>2025</th>\n",
       "      <td>Funky chicken!</td>\n",
       "      <td>Amazing</td>\n",
       "    </tr>\n",
       "    <tr>\n",
       "      <th>2908</th>\n",
       "      <td>Grab your piece boys</td>\n",
       "      <td>Crate Drop</td>\n",
       "    </tr>\n",
       "    <tr>\n",
       "      <th>531</th>\n",
       "      <td>Hurry!</td>\n",
       "      <td>Hurry</td>\n",
       "    </tr>\n",
       "    <tr>\n",
       "      <th>764</th>\n",
       "      <td>I'll get you!</td>\n",
       "      <td>Hurt</td>\n",
       "    </tr>\n",
       "    <tr>\n",
       "      <th>1068</th>\n",
       "      <td>Impéccable! [Flawless!]</td>\n",
       "      <td>Damage</td>\n",
       "    </tr>\n",
       "    <tr>\n",
       "      <th>2953</th>\n",
       "      <td>There was only 15 seconds left</td>\n",
       "      <td>Come on Then</td>\n",
       "    </tr>\n",
       "    <tr>\n",
       "      <th>1694</th>\n",
       "      <td>pudło... (missed...)</td>\n",
       "      <td>Missed</td>\n",
       "    </tr>\n",
       "    <tr>\n",
       "      <th>2271</th>\n",
       "      <td>¡Espera y verás!</td>\n",
       "      <td>\"just you wait and see!\", I'll get you</td>\n",
       "    </tr>\n",
       "    <tr>\n",
       "      <th>1303</th>\n",
       "      <td>Schnell!</td>\n",
       "      <td>Less than 5 seconds left</td>\n",
       "    </tr>\n",
       "    <tr>\n",
       "      <th>646</th>\n",
       "      <td>Alert.</td>\n",
       "      <td>Panic</td>\n",
       "    </tr>\n",
       "  </tbody>\n",
       "</table>\n",
       "</div>"
      ],
      "text/plain": [
       "                          speech_line                              speech_key\n",
       "2025                  Funky chicken!                                  Amazing\n",
       "2908            Grab your piece boys                               Crate Drop\n",
       "531                           Hurry!                                    Hurry\n",
       "764                    I'll get you!                                     Hurt\n",
       "1068         Impéccable! [Flawless!]                                   Damage\n",
       "2953  There was only 15 seconds left                             Come on Then\n",
       "1694            pudło... (missed...)                                   Missed\n",
       "2271                ¡Espera y verás!   \"just you wait and see!\", I'll get you\n",
       "1303                        Schnell!                 Less than 5 seconds left\n",
       "646                           Alert.                                    Panic"
      ]
     },
     "execution_count": 75,
     "metadata": {},
     "output_type": "execute_result"
    }
   ],
   "source": [
    "# TODO Make less hacky :)\n",
    "df = rows[20:-13].str.extract(r\"\\*(.+)\\((.*)\\)\").dropna()\n",
    "df.columns = [\"speech_line\", \"speech_key\"]\n",
    "df.sample(n=10)\n"
   ]
  },
  {
   "cell_type": "code",
   "execution_count": 76,
   "metadata": {},
   "outputs": [
    {
     "data": {
      "text/html": [
       "<div>\n",
       "<style scoped>\n",
       "    .dataframe tbody tr th:only-of-type {\n",
       "        vertical-align: middle;\n",
       "    }\n",
       "\n",
       "    .dataframe tbody tr th {\n",
       "        vertical-align: top;\n",
       "    }\n",
       "\n",
       "    .dataframe thead th {\n",
       "        text-align: right;\n",
       "    }\n",
       "</style>\n",
       "<table border=\"1\" class=\"dataframe\">\n",
       "  <thead>\n",
       "    <tr style=\"text-align: right;\">\n",
       "      <th></th>\n",
       "      <th>speech_line</th>\n",
       "    </tr>\n",
       "    <tr>\n",
       "      <th>speech_key</th>\n",
       "      <th></th>\n",
       "    </tr>\n",
       "  </thead>\n",
       "  <tbody>\n",
       "    <tr>\n",
       "      <th>Death</th>\n",
       "      <td>56</td>\n",
       "    </tr>\n",
       "    <tr>\n",
       "      <th>Hurt</th>\n",
       "      <td>55</td>\n",
       "    </tr>\n",
       "    <tr>\n",
       "      <th>Coward</th>\n",
       "      <td>54</td>\n",
       "    </tr>\n",
       "    <tr>\n",
       "      <th>Hurry</th>\n",
       "      <td>51</td>\n",
       "    </tr>\n",
       "    <tr>\n",
       "      <th>Fatality</th>\n",
       "      <td>50</td>\n",
       "    </tr>\n",
       "    <tr>\n",
       "      <th>Panic</th>\n",
       "      <td>50</td>\n",
       "    </tr>\n",
       "    <tr>\n",
       "      <th>Stupid</th>\n",
       "      <td>49</td>\n",
       "    </tr>\n",
       "    <tr>\n",
       "      <th>Revenge</th>\n",
       "      <td>46</td>\n",
       "    </tr>\n",
       "    <tr>\n",
       "      <th>Boring</th>\n",
       "      <td>44</td>\n",
       "    </tr>\n",
       "    <tr>\n",
       "      <th>Traitor</th>\n",
       "      <td>44</td>\n",
       "    </tr>\n",
       "    <tr>\n",
       "      <th>Hello</th>\n",
       "      <td>43</td>\n",
       "    </tr>\n",
       "    <tr>\n",
       "      <th>Missed</th>\n",
       "      <td>43</td>\n",
       "    </tr>\n",
       "    <tr>\n",
       "      <th>Victory</th>\n",
       "      <td>43</td>\n",
       "    </tr>\n",
       "    <tr>\n",
       "      <th>Representation</th>\n",
       "      <td>42</td>\n",
       "    </tr>\n",
       "    <tr>\n",
       "      <th>Grenade</th>\n",
       "      <td>41</td>\n",
       "    </tr>\n",
       "    <tr>\n",
       "      <th>Amazing</th>\n",
       "      <td>40</td>\n",
       "    </tr>\n",
       "    <tr>\n",
       "      <th>Bummer</th>\n",
       "      <td>40</td>\n",
       "    </tr>\n",
       "    <tr>\n",
       "      <th>Fire</th>\n",
       "      <td>36</td>\n",
       "    </tr>\n",
       "    <tr>\n",
       "      <th>Excellent</th>\n",
       "      <td>35</td>\n",
       "    </tr>\n",
       "    <tr>\n",
       "      <th>Oops</th>\n",
       "      <td>35</td>\n",
       "    </tr>\n",
       "    <tr>\n",
       "      <th>Incoming</th>\n",
       "      <td>34</td>\n",
       "    </tr>\n",
       "    <tr>\n",
       "      <th>Kamikaze</th>\n",
       "      <td>34</td>\n",
       "    </tr>\n",
       "    <tr>\n",
       "      <th>Oi Nutter</th>\n",
       "      <td>34</td>\n",
       "    </tr>\n",
       "    <tr>\n",
       "      <th>Perfect</th>\n",
       "      <td>34</td>\n",
       "    </tr>\n",
       "    <tr>\n",
       "      <th>First Blood</th>\n",
       "      <td>33</td>\n",
       "    </tr>\n",
       "  </tbody>\n",
       "</table>\n",
       "</div>"
      ],
      "text/plain": [
       "                speech_line\n",
       "speech_key                 \n",
       "Death                    56\n",
       "Hurt                     55\n",
       "Coward                   54\n",
       "Hurry                    51\n",
       "Fatality                 50\n",
       "Panic                    50\n",
       "Stupid                   49\n",
       "Revenge                  46\n",
       "Boring                   44\n",
       "Traitor                  44\n",
       "Hello                    43\n",
       "Missed                   43\n",
       "Victory                  43\n",
       "Representation           42\n",
       "Grenade                  41\n",
       "Amazing                  40\n",
       "Bummer                   40\n",
       "Fire                     36\n",
       "Excellent                35\n",
       "Oops                     35\n",
       "Incoming                 34\n",
       "Kamikaze                 34\n",
       "Oi Nutter                34\n",
       "Perfect                  34\n",
       "First Blood              33"
      ]
     },
     "execution_count": 76,
     "metadata": {},
     "output_type": "execute_result"
    }
   ],
   "source": [
    "# TODO Filter out speech keys with only one occurence.\n",
    "df.groupby(\"speech_key\").count().nlargest(25, columns=\"speech_line\")"
   ]
  },
  {
   "cell_type": "code",
   "execution_count": 77,
   "metadata": {},
   "outputs": [],
   "source": [
    "rows = df.rename(columns={\"speech_key\": \"input\", \"speech_line\": \"output\"}).to_dict(\n",
    "    orient=\"records\"\n",
    ")\n",
    "\n",
    "# TODO Send semistructured data directly instead of a string.\n",
    "speechbank = \"\"\n",
    "for d in rows:\n",
    "    speechbank += f\"input: {d['input']}\\noutput: {d['output']}\\n\\n\""
   ]
  },
  {
   "attachments": {},
   "cell_type": "markdown",
   "metadata": {},
   "source": [
    "## Run text generation model to get speech lines\n"
   ]
  },
  {
   "cell_type": "code",
   "execution_count": 78,
   "metadata": {},
   "outputs": [
    {
     "name": "stdout",
     "output_type": "stream",
     "text": [
      "Missed: 100% accuracy is impossible, so just enjoy the misses!\n"
     ]
    }
   ],
   "source": [
    "import vertexai\n",
    "from vertexai.language_models import TextGenerationModel\n",
    "\n",
    "vertexai.init(project=\"genai-nordics23sto-2304\", location=\"us-central1\")\n",
    "\n",
    "parameters = {\"temperature\": 0.9, \"max_output_tokens\": 64, \"top_p\": 0.8, \"top_k\": 40}\n",
    "\n",
    "model = TextGenerationModel.from_pretrained(\"text-bison\")\n",
    "\n",
    "# TODO Prepend personality.\n",
    "worm_personality = \"\"\"\n",
    "\n",
    "\"\"\"\n",
    "\n",
    "prompt = speechbank[:1000]\n",
    "\n",
    "speech_key = \"Missed\"  # TODO Choice of speech key should be easier.\n",
    "\n",
    "prompt += f\"input: {speech_key}\\noutput:\"\n",
    "response = model.predict(prompt, **parameters)\n",
    "\n",
    "if response.text != \"\":\n",
    "    print(f\"{speech_key}: {response.text}\")\n",
    "else:\n",
    "    print(\"No output :(\")\n"
   ]
  },
  {
   "attachments": {},
   "cell_type": "markdown",
   "metadata": {},
   "source": [
    "## Run text-to-speech (TTS) model to get audio\n"
   ]
  },
  {
   "cell_type": "code",
   "execution_count": 79,
   "metadata": {},
   "outputs": [],
   "source": [
    "# TODO Use the TTS in Vertex AI instead.\n",
    "!say \"{response.text}\""
   ]
  }
 ],
 "metadata": {
  "kernelspec": {
   "display_name": ".venv",
   "language": "python",
   "name": "python3"
  },
  "language_info": {
   "codemirror_mode": {
    "name": "ipython",
    "version": 3
   },
   "file_extension": ".py",
   "mimetype": "text/x-python",
   "name": "python",
   "nbconvert_exporter": "python",
   "pygments_lexer": "ipython3",
   "version": "3.10.11"
  },
  "orig_nbformat": 4
 },
 "nbformat": 4,
 "nbformat_minor": 2
}
